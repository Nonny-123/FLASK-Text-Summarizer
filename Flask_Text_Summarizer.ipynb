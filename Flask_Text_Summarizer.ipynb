{
  "nbformat": 4,
  "nbformat_minor": 0,
  "metadata": {
    "colab": {
      "provenance": []
    },
    "kernelspec": {
      "name": "python3",
      "display_name": "Python 3"
    },
    "language_info": {
      "name": "python"
    }
  },
  "cells": [
    {
      "cell_type": "code",
      "execution_count": 1,
      "metadata": {
        "colab": {
          "base_uri": "https://localhost:8080/"
        },
        "id": "t4W8pgrkmH-J",
        "outputId": "32cfdb26-0cac-449e-e052-f5c7ec780c32"
      },
      "outputs": [
        {
          "output_type": "stream",
          "name": "stdout",
          "text": [
            "Requirement already satisfied: flask in /usr/local/lib/python3.11/dist-packages (3.1.0)\n",
            "Requirement already satisfied: transformers in /usr/local/lib/python3.11/dist-packages (4.48.3)\n",
            "Requirement already satisfied: requests in /usr/local/lib/python3.11/dist-packages (2.32.3)\n",
            "Requirement already satisfied: Werkzeug>=3.1 in /usr/local/lib/python3.11/dist-packages (from flask) (3.1.3)\n",
            "Requirement already satisfied: Jinja2>=3.1.2 in /usr/local/lib/python3.11/dist-packages (from flask) (3.1.6)\n",
            "Requirement already satisfied: itsdangerous>=2.2 in /usr/local/lib/python3.11/dist-packages (from flask) (2.2.0)\n",
            "Requirement already satisfied: click>=8.1.3 in /usr/local/lib/python3.11/dist-packages (from flask) (8.1.8)\n",
            "Requirement already satisfied: blinker>=1.9 in /usr/local/lib/python3.11/dist-packages (from flask) (1.9.0)\n",
            "Requirement already satisfied: filelock in /usr/local/lib/python3.11/dist-packages (from transformers) (3.17.0)\n",
            "Requirement already satisfied: huggingface-hub<1.0,>=0.24.0 in /usr/local/lib/python3.11/dist-packages (from transformers) (0.28.1)\n",
            "Requirement already satisfied: numpy>=1.17 in /usr/local/lib/python3.11/dist-packages (from transformers) (2.0.2)\n",
            "Requirement already satisfied: packaging>=20.0 in /usr/local/lib/python3.11/dist-packages (from transformers) (24.2)\n",
            "Requirement already satisfied: pyyaml>=5.1 in /usr/local/lib/python3.11/dist-packages (from transformers) (6.0.2)\n",
            "Requirement already satisfied: regex!=2019.12.17 in /usr/local/lib/python3.11/dist-packages (from transformers) (2024.11.6)\n",
            "Requirement already satisfied: tokenizers<0.22,>=0.21 in /usr/local/lib/python3.11/dist-packages (from transformers) (0.21.1)\n",
            "Requirement already satisfied: safetensors>=0.4.1 in /usr/local/lib/python3.11/dist-packages (from transformers) (0.5.3)\n",
            "Requirement already satisfied: tqdm>=4.27 in /usr/local/lib/python3.11/dist-packages (from transformers) (4.67.1)\n",
            "Requirement already satisfied: charset-normalizer<4,>=2 in /usr/local/lib/python3.11/dist-packages (from requests) (3.4.1)\n",
            "Requirement already satisfied: idna<4,>=2.5 in /usr/local/lib/python3.11/dist-packages (from requests) (3.10)\n",
            "Requirement already satisfied: urllib3<3,>=1.21.1 in /usr/local/lib/python3.11/dist-packages (from requests) (2.3.0)\n",
            "Requirement already satisfied: certifi>=2017.4.17 in /usr/local/lib/python3.11/dist-packages (from requests) (2025.1.31)\n",
            "Requirement already satisfied: fsspec>=2023.5.0 in /usr/local/lib/python3.11/dist-packages (from huggingface-hub<1.0,>=0.24.0->transformers) (2024.10.0)\n",
            "Requirement already satisfied: typing-extensions>=3.7.4.3 in /usr/local/lib/python3.11/dist-packages (from huggingface-hub<1.0,>=0.24.0->transformers) (4.12.2)\n",
            "Requirement already satisfied: MarkupSafe>=2.0 in /usr/local/lib/python3.11/dist-packages (from Jinja2>=3.1.2->flask) (3.0.2)\n"
          ]
        }
      ],
      "source": [
        "!pip install flask transformers requests"
      ]
    },
    {
      "cell_type": "code",
      "source": [
        "%%writefile flask_summarizer.py\n",
        "from flask import Flask, request, jsonify\n",
        "from transformers import pipeline\n",
        "\n",
        "app = Flask(__name__)\n",
        "\n",
        "summarizer = pipeline(\"summarization\", model=\"facebook/bart-large-cnn\", trust_remote_code=True)\n",
        "\n",
        "@app.route('/summarizer', methods=['POST'])\n",
        "def summarize_text():\n",
        "  try:\n",
        "    text = request.json.get(\"text\")\n",
        "    max_length = request.json.get(\"max_length\", 250)\n",
        "    min_length = request.json.get(\"min_length\", 200)\n",
        "\n",
        "    if not text:\n",
        "      return jsonify({\"error\": \"Please input valid text\"})\n",
        "\n",
        "    summary = summarizer(text, max_length=max_length, min_length=min_length, length_penalty=2.0, do_sample=False)\n",
        "    return jsonify({\"summary\": summary[0]['summary_text']})\n",
        "\n",
        "  except Exception as e:\n",
        "    return jsonify({\"error\": str(e)})\n",
        "\n",
        "if __name__ == \"__main__\":\n",
        "  app.run(debug=True, port=5000, host=\"0.0.0.0\")"
      ],
      "metadata": {
        "colab": {
          "base_uri": "https://localhost:8080/"
        },
        "id": "gYECbbvlmoQc",
        "outputId": "e4b0a276-24b9-4a36-97e2-723060f13a64"
      },
      "execution_count": 2,
      "outputs": [
        {
          "output_type": "stream",
          "name": "stdout",
          "text": [
            "Writing flask_summarizer.py\n"
          ]
        }
      ]
    },
    {
      "cell_type": "code",
      "source": [
        "!nohup python flask_summarizer.py &"
      ],
      "metadata": {
        "id": "EGGlapwA_wFG",
        "colab": {
          "base_uri": "https://localhost:8080/"
        },
        "outputId": "30796ddb-7692-4a90-84e6-3f6bd542dd2b"
      },
      "execution_count": 3,
      "outputs": [
        {
          "output_type": "stream",
          "name": "stdout",
          "text": [
            "nohup: appending output to 'nohup.out'\n"
          ]
        }
      ]
    },
    {
      "cell_type": "code",
      "source": [
        "import requests\n",
        "\n",
        "# Define the URL of the Flask app\n",
        "url = 'http://172.28.0.12:5000/summarizer'\n",
        "\n",
        "# Send a request to the Flask app with the text to summarize\n",
        "response = requests.post(url, json={'text': \" xt into sentences and further into words within each sentence. It filters out the specified HTML tags from these words. After filtering, the function reconstructs the sentences from the remaining words and returns the cleaned text.\"})\n",
        "\n",
        "\n",
        "# Print the response\n",
        "print(response.status_code)\n",
        "# print(response.text)\n",
        "print(response.json())\n"
      ],
      "metadata": {
        "id": "lhgWEl2CTSF7",
        "colab": {
          "base_uri": "https://localhost:8080/"
        },
        "outputId": "aa0e809f-3c52-4e03-bad8-25c6be3a3b1b"
      },
      "execution_count": 5,
      "outputs": [
        {
          "output_type": "stream",
          "name": "stdout",
          "text": [
            "200\n",
            "{'summary': \"It filters out the specified HTML tags from these words. After filtering, the function reconstructs the sentences from the remaining words and returns the cleaned text.  xt into sentences and further into words within each sentence. It filters into the specified words from the HTML tags. It reconstructs them into sentences, and returns them to the user as clean text. For more information on this function, visit the project's website or go to: http://www.cnn.com/2013/01/29/cnn-script-script/index.html#storylink=cpy. For the latest from CNN.com, go to http:www.jpost.co.uk/2013-01-29/news/features/stories/top-stories/stories-stories-topstories-story-stories.html/. For the most up-to-date list of stories, visit: http: www.jpress.com/. for the most recent news from CNN,. for the latest stories from CNN, see http:http:www.-jpress-com.com.\"}\n"
          ]
        }
      ]
    },
    {
      "cell_type": "code",
      "source": [],
      "metadata": {
        "id": "xcqLSh5AXF5o"
      },
      "execution_count": null,
      "outputs": []
    }
  ]
}